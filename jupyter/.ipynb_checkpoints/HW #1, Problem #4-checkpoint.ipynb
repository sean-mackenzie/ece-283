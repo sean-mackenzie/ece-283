{
 "cells": [
  {
   "cell_type": "markdown",
   "id": "a55581f6",
   "metadata": {},
   "source": [
    "# Logistic regression with fixed feature vector"
   ]
  },
  {
   "cell_type": "markdown",
   "id": "d1d1e0c8",
   "metadata": {},
   "source": [
    "1. Generate N training data samples (N/2 from each class).\n",
    "\n",
    "2. To evaluate different N's, use a single data set of training samples and collect your sample size for different N's by starting at index 0 until you have the desired number. This way you are comparing the most similar data points. \n",
    "\n",
    "3. Start with N=200 but try N=100 and N=400 afterwards to test the affect of N on \"adequate\" performance. \n",
    "\n",
    "4. Use Newton's method to train a classifier employing the non-kernelized logistic regression with explicit linear, quadratic, and cubic features. \n"
   ]
  },
  {
   "cell_type": "code",
   "execution_count": 25,
   "id": "86779bc5",
   "metadata": {},
   "outputs": [
    {
     "ename": "ModuleNotFoundError",
     "evalue": "No module named 'pandas'",
     "output_type": "error",
     "traceback": [
      "\u001b[0;31m---------------------------------------------------------------------------\u001b[0m",
      "\u001b[0;31mModuleNotFoundError\u001b[0m                       Traceback (most recent call last)",
      "\u001b[0;32m<ipython-input-25-be543ca5780d>\u001b[0m in \u001b[0;36m<module>\u001b[0;34m\u001b[0m\n\u001b[1;32m      1\u001b[0m \u001b[0;31m# import modules\u001b[0m\u001b[0;34m\u001b[0m\u001b[0;34m\u001b[0m\u001b[0;34m\u001b[0m\u001b[0m\n\u001b[1;32m      2\u001b[0m \u001b[0;32mimport\u001b[0m \u001b[0mnumpy\u001b[0m \u001b[0;32mas\u001b[0m \u001b[0mnp\u001b[0m\u001b[0;34m\u001b[0m\u001b[0;34m\u001b[0m\u001b[0m\n\u001b[0;32m----> 3\u001b[0;31m \u001b[0;32mimport\u001b[0m \u001b[0mpandas\u001b[0m \u001b[0;32mas\u001b[0m \u001b[0mpd\u001b[0m\u001b[0;34m\u001b[0m\u001b[0;34m\u001b[0m\u001b[0m\n\u001b[0m\u001b[1;32m      4\u001b[0m \u001b[0;32mimport\u001b[0m \u001b[0mmath\u001b[0m\u001b[0;34m\u001b[0m\u001b[0;34m\u001b[0m\u001b[0m\n\u001b[1;32m      5\u001b[0m \u001b[0;32mimport\u001b[0m \u001b[0mmatplotlib\u001b[0m\u001b[0;34m.\u001b[0m\u001b[0mpyplot\u001b[0m \u001b[0;32mas\u001b[0m \u001b[0mplt\u001b[0m\u001b[0;34m\u001b[0m\u001b[0;34m\u001b[0m\u001b[0m\n",
      "\u001b[0;31mModuleNotFoundError\u001b[0m: No module named 'pandas'"
     ]
    }
   ],
   "source": [
    "# import modules\n",
    "import numpy as np\n",
    "import pandas as pd\n",
    "import math\n",
    "import matplotlib.pyplot as plt"
   ]
  },
  {
   "cell_type": "markdown",
   "id": "8c11da9a",
   "metadata": {},
   "source": [
    "## Generate N training data samples (N/2 from each class)"
   ]
  },
  {
   "cell_type": "code",
   "execution_count": 24,
   "id": "a1cd79a1",
   "metadata": {},
   "outputs": [
    {
     "name": "stdout",
     "output_type": "stream",
     "text": [
      "Shape of data:  (4000, 2)\n",
      "Reshaped to represent classes:  (2, 2000, 2)\n"
     ]
    }
   ],
   "source": [
    "loadPath = '/Users/mackenzie/Box/2020-2021/Classes/S21 ECE283 - Machine Learning/HW1/results/hw1prob3_sim_datapoints.txt'\n",
    "X_orig = np.loadtxt(loadPath, dtype='float', delimiter=',')\n",
    "print(\"Shape of data: \", np.shape(X_orig))\n",
    "\n",
    "# reshape to two classes\n",
    "X = np.reshape(X_orig, (2,2000,2), order='C')\n",
    "print(\"Reshaped to represent classes: \", np.shape(X))"
   ]
  },
  {
   "cell_type": "code",
   "execution_count": 20,
   "id": "25834e76",
   "metadata": {},
   "outputs": [],
   "source": [
    "def get_samples(data, num_samples):\n",
    "    # data (k x n x 2): data set to collect sampmles from\n",
    "    # num samples: number of samples (1/2 will be collected from each class)\n",
    "    \n",
    "    num_classes = np.shape(data)[0]\n",
    "    samples_per_class = int(num_samples / num_classes)\n",
    "    \n",
    "    class_data = []\n",
    "    for c in range(num_classes):\n",
    "        class_data.append(data[c,:samples_per_class,:])\n",
    "    \n",
    "    class_data = np.array(class_data)\n",
    "    \n",
    "    print(\"N samples: \", num_samples)\n",
    "    print(\"sample shape: \", np.shape(class_data))\n",
    "        \n",
    "    return class_data\n",
    "        "
   ]
  },
  {
   "cell_type": "markdown",
   "id": "95e7ec73",
   "metadata": {},
   "source": [
    "## Logistic regression in Python from scratch"
   ]
  },
  {
   "cell_type": "markdown",
   "id": "c53c6e15",
   "metadata": {},
   "source": [
    "Use Newton's method to train a classifier employing the non-kernelized logistic regression with explicit linear, quadratic, and cubic features. \n",
    "\n",
    "The following code is based off a stackoverflow post: \n",
    "https://stackoverflow.com/questions/49043061/inefficient-regularized-logistic-regression-with-numpy "
   ]
  },
  {
   "cell_type": "code",
   "execution_count": null,
   "id": "8b826596",
   "metadata": {},
   "outputs": [],
   "source": []
  }
 ],
 "metadata": {
  "kernelspec": {
   "display_name": "Python 3",
   "language": "python",
   "name": "python3"
  },
  "language_info": {
   "codemirror_mode": {
    "name": "ipython",
    "version": 3
   },
   "file_extension": ".py",
   "mimetype": "text/x-python",
   "name": "python",
   "nbconvert_exporter": "python",
   "pygments_lexer": "ipython3",
   "version": "3.8.7"
  }
 },
 "nbformat": 4,
 "nbformat_minor": 5
}
