{
 "cells": [
  {
   "cell_type": "code",
   "execution_count": 17,
   "id": "b11d8e56",
   "metadata": {},
   "outputs": [],
   "source": [
    "import numpy as np\n",
    "from os.path import join"
   ]
  },
  {
   "cell_type": "code",
   "execution_count": 30,
   "id": "a2276559",
   "metadata": {},
   "outputs": [],
   "source": [
    "# initialize variables\n",
    "dimensions = [0, 1, 0, 1]\n",
    "points = 5\n",
    "mean = 4\n",
    "std = 0.5\n",
    "\n",
    "# create and stack normal distributions\n",
    "samples = []\n",
    "labels = []\n",
    "\n",
    "for i in dimensions:\n",
    "    sample = np.random.normal(loc=mean, scale=std, size=points)\n",
    "    samples.append(sample)\n",
    "    \n",
    "    label = np.ones(points, dtype=int)*i\n",
    "    labels.append(label)\n",
    "    \n",
    "samples = np.array(samples)\n",
    "labels = np.array(labels)\n",
    "    \n",
    "samples = np.ndarray.flatten(samples)\n",
    "labels = np.ndarray.flatten(labels)\n",
    "\n",
    "data = np.vstack((samples, labels)).T\n",
    "\n",
    "savePath = '/Users/mackenzie/PythonProjects/ece283/jupyter/ECE283 HWs/HW2'\n",
    "saveName = 'exampleFullData.csv'\n",
    "saveFile = join(savePath, saveName)\n",
    "np.savetxt(saveFile, data, delimiter=',')"
   ]
  },
  {
   "cell_type": "code",
   "execution_count": 31,
   "id": "e06b5067",
   "metadata": {},
   "outputs": [
    {
     "name": "stdout",
     "output_type": "stream",
     "text": [
      "[[3.23683341 0.        ]\n",
      " [4.22262951 0.        ]\n",
      " [4.13579087 0.        ]\n",
      " [4.47443186 0.        ]\n",
      " [3.44343379 0.        ]\n",
      " [3.80840107 1.        ]\n",
      " [4.03154364 1.        ]\n",
      " [3.35981754 1.        ]\n",
      " [4.0904673  1.        ]\n",
      " [4.79203353 1.        ]\n",
      " [3.74401029 0.        ]\n",
      " [3.76565049 0.        ]\n",
      " [4.39791062 0.        ]\n",
      " [4.05957167 0.        ]\n",
      " [3.88352073 0.        ]\n",
      " [3.65705778 1.        ]\n",
      " [4.28363815 1.        ]\n",
      " [3.87321962 1.        ]\n",
      " [3.04057532 1.        ]\n",
      " [3.43169884 1.        ]]\n"
     ]
    }
   ],
   "source": [
    "# read csv file\n",
    "readData = np.genfromtxt(saveFile, delimiter=',')\n",
    "print(readData)"
   ]
  },
  {
   "cell_type": "code",
   "execution_count": null,
   "id": "6c9f5988",
   "metadata": {},
   "outputs": [],
   "source": []
  }
 ],
 "metadata": {
  "kernelspec": {
   "display_name": "Python 3",
   "language": "python",
   "name": "python3"
  },
  "language_info": {
   "codemirror_mode": {
    "name": "ipython",
    "version": 3
   },
   "file_extension": ".py",
   "mimetype": "text/x-python",
   "name": "python",
   "nbconvert_exporter": "python",
   "pygments_lexer": "ipython3",
   "version": "3.8.7"
  }
 },
 "nbformat": 4,
 "nbformat_minor": 5
}
