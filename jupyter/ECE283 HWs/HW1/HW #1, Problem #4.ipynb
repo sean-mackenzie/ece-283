{
 "cells": [
  {
   "cell_type": "markdown",
   "id": "a55581f6",
   "metadata": {},
   "source": [
    "# Logistic regression with fixed feature vector"
   ]
  },
  {
   "cell_type": "markdown",
   "id": "d1d1e0c8",
   "metadata": {},
   "source": [
    "1. Generate N training data samples (N/2 from each class).\n",
    "\n",
    "2. To evaluate different N's, use a single data set of training samples and collect your sample size for different N's by starting at index 0 until you have the desired number. This way you are comparing the most similar data points. \n",
    "\n",
    "3. Start with N=200 but try N=100 and N=400 afterwards to test the affect of N on \"adequate\" performance. \n",
    "\n",
    "4. Use Newton's method to train a classifier employing the non-kernelized logistic regression with explicit linear, quadratic, and cubic features. \n"
   ]
  },
  {
   "cell_type": "code",
   "execution_count": 77,
   "id": "86779bc5",
   "metadata": {},
   "outputs": [],
   "source": [
    "# import modules\n",
    "import numpy as np\n",
    "import pandas as pd\n",
    "import math\n",
    "import matplotlib.pyplot as plt"
   ]
  },
  {
   "cell_type": "markdown",
   "id": "8c11da9a",
   "metadata": {},
   "source": [
    "## Generate N training data samples (N/2 from each class)"
   ]
  },
  {
   "cell_type": "code",
   "execution_count": 108,
   "id": "a1cd79a1",
   "metadata": {},
   "outputs": [
    {
     "name": "stdout",
     "output_type": "stream",
     "text": [
      "Shape of data:  (4000, 2)\n",
      "Reshaped to represent classes:  (2, 2000, 2)\n"
     ]
    }
   ],
   "source": [
    "loadPath = '/Users/mackenzie/Box/2020-2021/Classes/S21 ECE283 - Machine Learning/HW1/results/hw1prob3_sim_datapoints.txt'\n",
    "X_orig = np.loadtxt(loadPath, dtype='float', delimiter=',')\n",
    "print(\"Shape of data: \", np.shape(X_orig))\n",
    "\n",
    "# reshape to two classes\n",
    "X = np.reshape(X_orig, (2,2000,2), order='C')\n",
    "print(\"Reshaped to represent classes: \", np.shape(X))"
   ]
  },
  {
   "cell_type": "code",
   "execution_count": 109,
   "id": "83733aee",
   "metadata": {},
   "outputs": [
    {
     "name": "stdout",
     "output_type": "stream",
     "text": [
      "(4000,)\n"
     ]
    }
   ],
   "source": [
    "# define the \"answers\"\n",
    "y0 = np.zeros(2000)\n",
    "y1 = np.ones(2000)\n",
    "ydata = np.append(y0,y1)\n",
    "print(np.shape(y))"
   ]
  },
  {
   "cell_type": "code",
   "execution_count": 126,
   "id": "25834e76",
   "metadata": {},
   "outputs": [],
   "source": [
    "def get_samples(xdata, ydata, num_samples, num_samples_per_class_in_data=2000):\n",
    "    # data (k x n x 2): data set to collect sampmles from\n",
    "    # num samples: number of samples (1/2 will be collected from each class)\n",
    "    \n",
    "    num_classes = np.shape(xdata)[1]\n",
    "    samples_per_class = int(num_samples / num_classes)\n",
    "    \n",
    "    class_xdata = []\n",
    "    class_ydata = []\n",
    "    for c in range(num_classes):\n",
    "        class_xdata.append(xdata[c*num_samples_per_class_in_data:samples_per_class+c*num_samples_per_class_in_data])\n",
    "        class_ydata.append(ydata[c*num_samples_per_class_in_data:samples_per_class+c*num_samples_per_class_in_data])\n",
    "    \n",
    "    \n",
    "    class_xdata = np.array(class_xdata)\n",
    "    class_xdata = np.reshape(class_xdata, (200,2), order='C')\n",
    "    \n",
    "    class_ydata = np.array(class_ydata)\n",
    "    \n",
    "    print(\"N samples: \", num_samples)\n",
    "    print(\"x sample shape: \", np.shape(class_xdata))\n",
    "    print(\"y sample shape: \", np.shape(class_ydata))\n",
    "    print(\"Mean of y samples:\", np.mean(class_ydata))\n",
    "        \n",
    "    return class_xdata, class_ydata\n",
    "        "
   ]
  },
  {
   "cell_type": "code",
   "execution_count": 127,
   "id": "a4d00a1e",
   "metadata": {},
   "outputs": [
    {
     "name": "stdout",
     "output_type": "stream",
     "text": [
      "N samples:  200\n",
      "x sample shape:  (200, 2)\n",
      "y sample shape:  (2, 100)\n",
      "Mean of y samples: 0.5\n",
      "(array([[ 1.464702e+00, -7.409450e-01],\n",
      "       [ 6.381230e-01, -2.706210e-01],\n",
      "       [ 1.164551e+00, -3.241120e-01],\n",
      "       [-3.774420e-01,  8.174410e-01],\n",
      "       [ 4.760430e-01,  1.666451e+00],\n",
      "       [ 2.342507e+00,  3.655900e-02],\n",
      "       [ 2.166620e+00,  7.140540e-01],\n",
      "       [-1.067312e+00,  7.283120e-01],\n",
      "       [ 9.088020e-01,  1.639499e+00],\n",
      "       [-3.471640e-01, -4.592940e-01],\n",
      "       [ 1.445950e-01,  6.429570e-01],\n",
      "       [ 1.331356e+00, -1.287133e+00],\n",
      "       [-2.774880e+00, -1.359270e-01],\n",
      "       [-7.919960e-01,  2.531830e-01],\n",
      "       [-6.638227e+00,  9.757410e-01],\n",
      "       [-1.141564e+00,  1.898025e+00],\n",
      "       [ 4.594400e-01, -2.574310e-01],\n",
      "       [-1.510461e+00, -8.877400e-01],\n",
      "       [ 2.627626e+00,  2.941670e-01],\n",
      "       [ 1.163043e+00,  1.240640e-01],\n",
      "       [ 1.519250e+00,  4.555600e-01],\n",
      "       [ 4.335943e+00,  3.526080e-01],\n",
      "       [ 2.363019e+00, -2.646290e-01],\n",
      "       [ 4.942237e+00, -7.617170e-01],\n",
      "       [ 2.829083e+00,  1.190315e+00],\n",
      "       [-1.819270e-01, -2.916120e-01],\n",
      "       [-1.961220e-01, -1.534920e-01],\n",
      "       [ 3.557870e-01, -1.094812e+00],\n",
      "       [-3.390429e+00,  1.494235e+00],\n",
      "       [ 1.011019e+00,  1.605460e-01],\n",
      "       [-3.790133e+00, -7.429220e-01],\n",
      "       [-2.310015e+00,  4.883750e-01],\n",
      "       [-5.726740e-01, -7.606580e-01],\n",
      "       [ 2.640640e+00,  4.790730e-01],\n",
      "       [-6.501010e-01,  5.693080e-01],\n",
      "       [-1.040618e+00,  2.043260e-01],\n",
      "       [-2.412367e+00,  1.311974e+00],\n",
      "       [-3.079814e+00, -6.105110e-01],\n",
      "       [-7.803000e-02, -3.910110e-01],\n",
      "       [-2.640565e+00, -7.988820e-01],\n",
      "       [-1.917983e+00, -1.146825e+00],\n",
      "       [ 2.479297e+00,  2.965800e-01],\n",
      "       [ 3.209380e-01, -3.866270e-01],\n",
      "       [-1.941070e+00, -8.119380e-01],\n",
      "       [-1.873812e+00, -3.641790e-01],\n",
      "       [-1.342977e+00,  6.640120e-01],\n",
      "       [ 2.234844e+00, -9.253430e-01],\n",
      "       [ 1.401082e+00,  1.174484e+00],\n",
      "       [-4.057866e+00, -1.261785e+00],\n",
      "       [-4.460226e+00,  1.659469e+00],\n",
      "       [-9.127040e-01,  3.239320e-01],\n",
      "       [-2.682826e+00, -1.663170e-01],\n",
      "       [ 2.110122e+00, -3.377140e-01],\n",
      "       [-3.017455e+00,  5.001800e-01],\n",
      "       [-6.862070e-01,  7.530970e-01],\n",
      "       [ 1.444702e+00,  7.499600e-01],\n",
      "       [-1.383490e+00, -5.132430e-01],\n",
      "       [-3.789082e+00,  1.008230e-01],\n",
      "       [ 1.181866e+00, -5.270670e-01],\n",
      "       [ 3.247828e+00, -8.487860e-01],\n",
      "       [-1.586956e+00,  5.901880e-01],\n",
      "       [ 2.280045e+00,  6.384720e-01],\n",
      "       [ 1.095175e+00,  2.715000e-03],\n",
      "       [-2.565991e+00,  1.176360e+00],\n",
      "       [ 2.060856e+00,  2.583840e-01],\n",
      "       [-8.593740e-01,  1.540899e+00],\n",
      "       [-1.564780e+00,  1.848320e-01],\n",
      "       [ 5.543070e-01, -3.630400e-02],\n",
      "       [-1.154704e+00,  1.846670e-01],\n",
      "       [-4.458961e+00, -2.828250e-01],\n",
      "       [-6.377270e-01,  6.132820e-01],\n",
      "       [ 1.889227e+00, -1.872350e-01],\n",
      "       [-1.446155e+00,  1.394370e-01],\n",
      "       [-3.908074e+00,  1.728170e-01],\n",
      "       [-9.538500e-02,  6.346600e-02],\n",
      "       [ 1.106851e+00,  1.602209e+00],\n",
      "       [-1.245714e+00,  1.268574e+00],\n",
      "       [-5.782150e-01,  3.143820e-01],\n",
      "       [-4.585560e+00,  1.119738e+00],\n",
      "       [ 4.989620e-01, -1.492794e+00],\n",
      "       [-2.645910e-01,  7.877530e-01],\n",
      "       [ 6.214810e-01,  7.731010e-01],\n",
      "       [-3.821858e+00,  1.454096e+00],\n",
      "       [ 1.679960e-01,  7.540500e-02],\n",
      "       [-4.323810e-01, -5.480990e-01],\n",
      "       [-2.900549e+00,  7.871800e-01],\n",
      "       [-3.229370e-01,  1.286919e+00],\n",
      "       [ 4.537900e-01, -7.577200e-02],\n",
      "       [ 1.236867e+00,  9.699750e-01],\n",
      "       [ 3.757432e+00, -9.430890e-01],\n",
      "       [ 1.003858e+00,  5.891230e-01],\n",
      "       [ 2.242028e+00, -4.075220e-01],\n",
      "       [-2.854110e-01, -1.856920e-01],\n",
      "       [-9.286800e-02, -1.575427e+00],\n",
      "       [-2.650534e+00,  1.201898e+00],\n",
      "       [-2.787472e+00,  4.111310e-01],\n",
      "       [ 3.869639e+00,  4.946090e-01],\n",
      "       [-2.275680e+00, -4.873150e-01],\n",
      "       [ 9.383000e-02, -1.005328e+00],\n",
      "       [ 4.773200e-02,  3.729470e-01],\n",
      "       [ 6.241620e-01,  2.395737e+00],\n",
      "       [ 3.076625e+00,  2.197699e+00],\n",
      "       [ 2.655373e+00,  2.110803e+00],\n",
      "       [ 1.989683e+00,  2.815066e+00],\n",
      "       [ 2.565724e+00,  2.975831e+00],\n",
      "       [ 1.621720e+00,  3.989637e+00],\n",
      "       [ 2.266517e+00,  2.356323e+00],\n",
      "       [ 1.220439e+00,  2.870754e+00],\n",
      "       [ 3.321350e+00,  2.219917e+00],\n",
      "       [ 5.708870e-01,  3.452991e+00],\n",
      "       [ 1.495559e+00,  4.039398e+00],\n",
      "       [ 2.506215e+00,  3.228606e+00],\n",
      "       [ 2.682812e+00,  2.089721e+00],\n",
      "       [ 1.875687e+00,  2.187781e+00],\n",
      "       [ 2.714102e+00,  3.953974e+00],\n",
      "       [ 1.773112e+00,  3.563148e+00],\n",
      "       [ 2.426910e-01,  3.388168e+00],\n",
      "       [ 2.718789e+00,  2.709394e+00],\n",
      "       [ 8.701530e-01,  2.431063e+00],\n",
      "       [ 2.832393e+00,  2.235051e+00],\n",
      "       [ 2.976259e+00,  3.975913e+00],\n",
      "       [ 2.436448e+00,  2.847501e+00],\n",
      "       [ 3.329809e+00,  2.338669e+00],\n",
      "       [ 2.516098e+00,  3.822764e+00],\n",
      "       [ 2.598487e+00,  2.730414e+00],\n",
      "       [ 2.928613e+00,  3.029310e+00],\n",
      "       [-2.605770e-01,  3.964644e+00],\n",
      "       [ 8.442830e-01,  2.848782e+00],\n",
      "       [ 1.403750e+00,  1.867622e+00],\n",
      "       [ 3.166291e+00,  3.014660e+00],\n",
      "       [ 1.471620e+00,  2.922463e+00],\n",
      "       [ 2.261514e+00,  2.896871e+00],\n",
      "       [ 1.200404e+00,  1.977686e+00],\n",
      "       [ 2.321884e+00,  4.587590e-01],\n",
      "       [ 3.433436e+00,  3.632363e+00],\n",
      "       [ 2.317034e+00,  3.362159e+00],\n",
      "       [ 2.098862e+00,  4.413120e+00],\n",
      "       [ 1.741299e+00,  4.437689e+00],\n",
      "       [ 1.873323e+00,  3.975775e+00],\n",
      "       [ 1.828315e+00,  3.583878e+00],\n",
      "       [ 2.310662e+00,  2.241646e+00],\n",
      "       [ 1.378759e+00,  3.621866e+00],\n",
      "       [ 1.964462e+00,  3.543745e+00],\n",
      "       [ 1.833791e+00,  2.762552e+00],\n",
      "       [ 7.879800e-01,  2.576707e+00],\n",
      "       [ 5.571680e-01,  2.353640e+00],\n",
      "       [ 1.844107e+00,  2.938508e+00],\n",
      "       [ 2.381410e+00,  3.670838e+00],\n",
      "       [ 2.065534e+00,  1.323445e+00],\n",
      "       [ 1.850583e+00,  4.870252e+00],\n",
      "       [ 8.673610e-01,  1.722036e+00],\n",
      "       [ 2.087334e+00,  4.999137e+00],\n",
      "       [ 1.428649e+00,  2.807569e+00],\n",
      "       [ 1.022121e+00,  2.876450e+00],\n",
      "       [ 1.421938e+00,  1.480692e+00],\n",
      "       [ 1.672220e+00,  2.341947e+00],\n",
      "       [ 1.766324e+00,  2.841108e+00],\n",
      "       [ 1.287110e+00,  8.040760e-01],\n",
      "       [ 1.601253e+00,  3.382766e+00],\n",
      "       [ 2.282662e+00,  2.063158e+00],\n",
      "       [ 2.395474e+00,  3.129285e+00],\n",
      "       [ 2.023007e+00,  4.037551e+00],\n",
      "       [ 2.159621e+00,  4.476548e+00],\n",
      "       [ 2.601901e+00,  3.460127e+00],\n",
      "       [ 1.061203e+00,  3.013159e+00],\n",
      "       [ 2.428718e+00,  2.228499e+00],\n",
      "       [ 1.516849e+00,  2.596593e+00],\n",
      "       [ 1.922298e+00,  3.049058e+00],\n",
      "       [ 2.655606e+00,  4.644900e+00],\n",
      "       [ 1.378315e+00,  3.203859e+00],\n",
      "       [ 2.631857e+00,  1.485565e+00],\n",
      "       [ 2.889095e+00,  2.729104e+00],\n",
      "       [ 1.727627e+00,  3.239573e+00],\n",
      "       [ 1.768473e+00,  2.059635e+00],\n",
      "       [ 2.321800e-01,  2.450127e+00],\n",
      "       [ 2.749840e+00,  3.248530e+00],\n",
      "       [ 2.777258e+00,  3.003597e+00],\n",
      "       [ 1.495910e+00,  2.374338e+00],\n",
      "       [ 2.012804e+00,  2.363478e+00],\n",
      "       [ 2.675974e+00,  1.143254e+00],\n",
      "       [ 2.147302e+00,  4.880383e+00],\n",
      "       [ 1.663702e+00,  2.177160e+00],\n",
      "       [ 1.820432e+00,  1.765951e+00],\n",
      "       [ 2.204841e+00,  2.929603e+00],\n",
      "       [ 2.367495e+00,  4.843410e+00],\n",
      "       [ 3.174083e+00,  2.971791e+00],\n",
      "       [ 5.257030e-01,  1.685686e+00],\n",
      "       [ 2.018031e+00,  2.934995e+00],\n",
      "       [ 1.519687e+00,  3.510757e+00],\n",
      "       [ 3.129140e+00,  3.850601e+00],\n",
      "       [ 1.650235e+00,  4.494863e+00],\n",
      "       [ 2.078453e+00,  3.508206e+00],\n",
      "       [ 1.890445e+00,  3.534418e+00],\n",
      "       [ 1.464635e+00,  4.245737e+00],\n",
      "       [ 1.887583e+00,  1.249152e+00],\n",
      "       [ 2.805274e+00,  2.299983e+00],\n",
      "       [ 1.977205e+00,  3.245491e+00],\n",
      "       [ 2.304373e+00,  2.840393e+00],\n",
      "       [ 1.983436e+00,  4.043835e+00],\n",
      "       [ 1.917923e+00,  3.387336e+00]]), array([[0., 0., 0., 0., 0., 0., 0., 0., 0., 0., 0., 0., 0., 0., 0., 0.,\n",
      "        0., 0., 0., 0., 0., 0., 0., 0., 0., 0., 0., 0., 0., 0., 0., 0.,\n",
      "        0., 0., 0., 0., 0., 0., 0., 0., 0., 0., 0., 0., 0., 0., 0., 0.,\n",
      "        0., 0., 0., 0., 0., 0., 0., 0., 0., 0., 0., 0., 0., 0., 0., 0.,\n",
      "        0., 0., 0., 0., 0., 0., 0., 0., 0., 0., 0., 0., 0., 0., 0., 0.,\n",
      "        0., 0., 0., 0., 0., 0., 0., 0., 0., 0., 0., 0., 0., 0., 0., 0.,\n",
      "        0., 0., 0., 0.],\n",
      "       [1., 1., 1., 1., 1., 1., 1., 1., 1., 1., 1., 1., 1., 1., 1., 1.,\n",
      "        1., 1., 1., 1., 1., 1., 1., 1., 1., 1., 1., 1., 1., 1., 1., 1.,\n",
      "        1., 1., 1., 1., 1., 1., 1., 1., 1., 1., 1., 1., 1., 1., 1., 1.,\n",
      "        1., 1., 1., 1., 1., 1., 1., 1., 1., 1., 1., 1., 1., 1., 1., 1.,\n",
      "        1., 1., 1., 1., 1., 1., 1., 1., 1., 1., 1., 1., 1., 1., 1., 1.,\n",
      "        1., 1., 1., 1., 1., 1., 1., 1., 1., 1., 1., 1., 1., 1., 1., 1.,\n",
      "        1., 1., 1., 1.]]))\n",
      "()\n"
     ]
    }
   ],
   "source": [
    "xx = get_samples(X_orig, ydata, num_samples=200)\n",
    "print(xx[0:5][:])\n",
    "print(xx[100:105][:])"
   ]
  },
  {
   "cell_type": "markdown",
   "id": "95e7ec73",
   "metadata": {},
   "source": [
    "## Logistic regression in Python from scratch"
   ]
  },
  {
   "cell_type": "markdown",
   "id": "c53c6e15",
   "metadata": {},
   "source": [
    "Use Newton's method to train a classifier employing the non-kernelized logistic regression with explicit linear, quadratic, and cubic features. \n",
    "\n",
    "The following code is based off a stackoverflow post: \n",
    "https://stackoverflow.com/questions/49043061/inefficient-regularized-logistic-regression-with-numpy "
   ]
  },
  {
   "cell_type": "markdown",
   "id": "4910d8df",
   "metadata": {},
   "source": [
    "## 1.0 - define the sigmoid function"
   ]
  },
  {
   "cell_type": "code",
   "execution_count": 48,
   "id": "1de9e6ca",
   "metadata": {},
   "outputs": [],
   "source": [
    "def sigmoid(theta, x):\n",
    "    \n",
    "    return 1/(1 + np.exp(-1 * theta.T.dot(x)))"
   ]
  },
  {
   "cell_type": "markdown",
   "id": "82abf406",
   "metadata": {},
   "source": [
    "## 2.0 - define the cost function"
   ]
  },
  {
   "cell_type": "code",
   "execution_count": 49,
   "id": "2068d71c",
   "metadata": {},
   "outputs": [],
   "source": [
    "def cost_function(X, y, theta):\n",
    "    \n",
    "    s = 0\n",
    "    \n",
    "    for i in range(m):\n",
    "        loss = -y[i] * np.log(sigmoid(theta, X[i])) - (1-y[i]*np.log(1-sigmoid(theta, X[i])))\n",
    "        s += loss\n",
    "    \n",
    "    s /= m # divide s by s and assign that value to s\n",
    "    s += (lamb/(2*m))*sum(theta[j]**2 for j in range(1,2))\n",
    "    \n",
    "    return s"
   ]
  },
  {
   "cell_type": "markdown",
   "id": "c99b44f0",
   "metadata": {},
   "source": [
    "## 3.0 - define the gradient"
   ]
  },
  {
   "cell_type": "code",
   "execution_count": 50,
   "id": "97ea2a1b",
   "metadata": {},
   "outputs": [],
   "source": [
    "def gradient(theta, X, y):\n",
    "    \n",
    "    # add regularization terms\n",
    "    add_column = theta * (lamb/m)\n",
    "    add_column[0] = 0\n",
    "    \n",
    "    a = sum((sigmoid(theta, X[i]) - y[i])*X[i] + add_column for i in range(m))/m\n",
    "    \n",
    "    return a"
   ]
  },
  {
   "cell_type": "markdown",
   "id": "ab494d8a",
   "metadata": {},
   "source": [
    "## 4.0 - define the hessian"
   ]
  },
  {
   "cell_type": "code",
   "execution_count": 51,
   "id": "47c7a7ba",
   "metadata": {},
   "outputs": [],
   "source": [
    "def hessian(theta, X, reg_matrix):\n",
    "    \n",
    "    matrix = []\n",
    "    for i in range(3):\n",
    "        row = []\n",
    "        for j in range(3):\n",
    "            cell = sum(sigmoid(theta, X[k])*(1-sigmoid(theta, X[k]))*X[k][i]*X[k][j] for k in range(m))\n",
    "            row.append(cell)\n",
    "        matrix.append(row)\n",
    "    \n",
    "    H = np.array(matrix)\n",
    "    H = np.add(H, reg_matrix)\n",
    "    \n",
    "    return H           "
   ]
  },
  {
   "cell_type": "markdown",
   "id": "7ac31d5e",
   "metadata": {},
   "source": [
    "## 5.0 - define Newtons method"
   ]
  },
  {
   "cell_type": "code",
   "execution_count": 44,
   "id": "d247e9b1",
   "metadata": {},
   "outputs": [],
   "source": [
    "def newtons_method(theta, iterations):\n",
    "    \n",
    "    for i in range(iterations):\n",
    "        g = gradient(theta, X, y)\n",
    "        H = hessian(theta, X, reg_matrix)\n",
    "        theta = theta - np.linalg.inv(H).dot(g)\n",
    "        cost = cost_function(X, y, theta)\n",
    "        print(cost)\n",
    "    return theta"
   ]
  },
  {
   "cell_type": "markdown",
   "id": "3b8686e3",
   "metadata": {},
   "source": [
    "---"
   ]
  },
  {
   "cell_type": "markdown",
   "id": "97a1c441",
   "metadata": {},
   "source": [
    "## Setup iterative method"
   ]
  },
  {
   "cell_type": "code",
   "execution_count": 52,
   "id": "1f707ec0",
   "metadata": {},
   "outputs": [],
   "source": [
    "X_df = pd.DataFrame(X_orig, columns=['score1', 'score'])\n",
    "y_df = pd.DataFrame(y, columns=['acceptance'])\n",
    "\n",
    "m = len(y_df)\n",
    "\n",
    "iterations = 15\n",
    "\n",
    "ones = np.ones((m, 1))\n",
    "\n",
    "X = np.array(X_df)\n",
    "X = np.append(ones, X, axis=1)\n",
    "y = np.array(y_df).flatten()\n",
    "\n",
    "theta = np.array([0 for i in range(3)])\n",
    "\n",
    "lamb = 1\n",
    "\n",
    "reg_matrix = np.zeros((3,3), dtype=int) # n+1*n-1 regularization matrix\n",
    "np.fill_diagonal(reg_matrix, 1)\n",
    "reg_matrix[0] = 0\n",
    "reg_matrix = (lamb/m)*reg_matrix"
   ]
  },
  {
   "cell_type": "markdown",
   "id": "f996d94f",
   "metadata": {},
   "source": [
    "## Run the method"
   ]
  },
  {
   "cell_type": "code",
   "execution_count": 202,
   "id": "016a6526",
   "metadata": {},
   "outputs": [
    {
     "name": "stdout",
     "output_type": "stream",
     "text": [
      "(2, 2000, 2)\n"
     ]
    }
   ],
   "source": [
    "print(np.shape(X))"
   ]
  },
  {
   "cell_type": "code",
   "execution_count": 203,
   "id": "7a1c3cd3",
   "metadata": {},
   "outputs": [
    {
     "ename": "TypeError",
     "evalue": "newtons_method() missing 5 required positional arguments: 'iterations', 'w', 'phix', 'y', and 'reg_identity_matrix'",
     "output_type": "error",
     "traceback": [
      "\u001b[0;31m---------------------------------------------------------------------------\u001b[0m",
      "\u001b[0;31mTypeError\u001b[0m                                 Traceback (most recent call last)",
      "\u001b[0;32m<ipython-input-203-747b24be3f56>\u001b[0m in \u001b[0;36m<module>\u001b[0;34m\u001b[0m\n\u001b[0;32m----> 1\u001b[0;31m \u001b[0mtheta\u001b[0m \u001b[0;34m=\u001b[0m \u001b[0mnewtons_method\u001b[0m\u001b[0;34m(\u001b[0m\u001b[0mtheta\u001b[0m\u001b[0;34m,\u001b[0m \u001b[0miterations\u001b[0m\u001b[0;34m)\u001b[0m\u001b[0;34m\u001b[0m\u001b[0;34m\u001b[0m\u001b[0m\n\u001b[0m\u001b[1;32m      2\u001b[0m \u001b[0mprint\u001b[0m\u001b[0;34m(\u001b[0m\u001b[0mnp\u001b[0m\u001b[0;34m.\u001b[0m\u001b[0mlinalg\u001b[0m\u001b[0;34m.\u001b[0m\u001b[0mnorm\u001b[0m\u001b[0;34m(\u001b[0m\u001b[0mtheta\u001b[0m\u001b[0;34m)\u001b[0m\u001b[0;34m)\u001b[0m\u001b[0;34m\u001b[0m\u001b[0;34m\u001b[0m\u001b[0m\n",
      "\u001b[0;31mTypeError\u001b[0m: newtons_method() missing 5 required positional arguments: 'iterations', 'w', 'phix', 'y', and 'reg_identity_matrix'"
     ]
    }
   ],
   "source": [
    "theta = newtons_method(theta, iterations)\n",
    "print(np.linalg.norm(theta))"
   ]
  },
  {
   "cell_type": "markdown",
   "id": "ad5712a9",
   "metadata": {},
   "source": [
    "The above was a copy/demonstration of code from the internet. I will now attempt to implement this based off the class notes."
   ]
  },
  {
   "cell_type": "markdown",
   "id": "e8aa9577",
   "metadata": {},
   "source": [
    "---"
   ]
  },
  {
   "cell_type": "markdown",
   "id": "132e0d3e",
   "metadata": {},
   "source": [
    "## Regularized logistic regression from class notes"
   ]
  },
  {
   "cell_type": "markdown",
   "id": "5f4793ac",
   "metadata": {},
   "source": [
    "* phix = 2D array of datapoints for training: phix(x1, x2) where x1 and x2 and dimensions.\n",
    "    * phix(x1,x2) = (1, x1, x2, x1^2, x2^2, x1x2, x1^3, x1^2x2, x1x2^2, x2^3)\n",
    "    * For every data point (x1, x2) there is a feature vector (phix(x1, x2)) \n",
    "    * from notes: its components are terms of the form x[k] and x[k]x[j].\n",
    "    \n",
    "* y_i = 1D array of labels for phix: [0,...,0,1,...1].T (length: 200)\n",
    "* y_i_hat = sigmoid(w, phix)\n",
    "* lambda = hyperparameter >= 0.\n",
    "* **w** = parameter we are trying to estimate via Newton iteration."
   ]
  },
  {
   "cell_type": "code",
   "execution_count": 299,
   "id": "09225c8f",
   "metadata": {},
   "outputs": [
    {
     "name": "stdout",
     "output_type": "stream",
     "text": [
      "(4000,)\n"
     ]
    }
   ],
   "source": [
    "loadPath = '/Users/mackenzie/Box/2020-2021/Classes/S21 ECE283 - Machine Learning/HW1/results/hw1prob3_sim_datapoints.txt'\n",
    "X_orig = np.loadtxt(loadPath, dtype='float', delimiter=',')\n",
    "\n",
    "# define the \"answers\"\n",
    "y0 = np.zeros(2000)\n",
    "y1 = np.ones(2000)\n",
    "ydata = np.append(y0,y1,axis=0)\n",
    "#ydata = np.reshape(ydata, (4000,1))\n",
    "print(np.shape(ydata))"
   ]
  },
  {
   "cell_type": "code",
   "execution_count": 318,
   "id": "88513989",
   "metadata": {},
   "outputs": [],
   "source": [
    "def feature_vector(x,d=2):\n",
    "    i, j = (0, 1)\n",
    "    phi = [1, x[i], x[j], x[i]**2, x[j]**2, x[i]*x[j], x[i]**3, x[i]**2*x[j], x[i]*x[j]**2, x[j]**3]\n",
    "    return phi"
   ]
  },
  {
   "cell_type": "code",
   "execution_count": 319,
   "id": "48da483e",
   "metadata": {},
   "outputs": [],
   "source": [
    "def is_pos_def(x):\n",
    "    return np.all(np.linalg.eigvals(x) > 0)"
   ]
  },
  {
   "cell_type": "code",
   "execution_count": 301,
   "id": "5a17d242",
   "metadata": {},
   "outputs": [],
   "source": [
    "def get_samples(xdata, ydata, num_samples, num_samples_per_class_in_data=2000):\n",
    "    # data (k x n x 2): data set to collect sampmles from\n",
    "    # num samples: number of samples (1/2 will be collected from each class)\n",
    "    \n",
    "    num_classes = np.shape(xdata)[1]\n",
    "    samples_per_class = int(num_samples / num_classes)\n",
    "    \n",
    "    class_xdata = []\n",
    "    class_ydata = []\n",
    "    for c in range(num_classes):\n",
    "        class_xdata.append(xdata[c*num_samples_per_class_in_data:samples_per_class+c*num_samples_per_class_in_data])\n",
    "        class_ydata.append(ydata[c*num_samples_per_class_in_data:samples_per_class+c*num_samples_per_class_in_data])\n",
    "    \n",
    "    \n",
    "    class_xdata = np.array(class_xdata)\n",
    "    class_xdata = np.reshape(class_xdata, (200,2), order='C')\n",
    "    \n",
    "    class_ydata = np.array(class_ydata)\n",
    "    class_ydata = np.reshape(class_ydata, (200,1), order='C')\n",
    "        \n",
    "    return class_xdata, class_ydata"
   ]
  },
  {
   "cell_type": "code",
   "execution_count": 338,
   "id": "c45d8d4f",
   "metadata": {},
   "outputs": [],
   "source": [
    "def sigmoid(w, phix):\n",
    "    \n",
    "    return 1/(1 + math.exp(-1*w.T.dot(phix)))"
   ]
  },
  {
   "cell_type": "code",
   "execution_count": 339,
   "id": "671348ae",
   "metadata": {},
   "outputs": [],
   "source": [
    "def cost_function(phix, y, w, num_samples, lamb):\n",
    "    \n",
    "    s = 0\n",
    "    \n",
    "    for i in range(num_samples):\n",
    "        loss = -y[i] * np.log(sigmoid(w, phix[i])) - (1-y[i]*np.log(1-sigmoid(w, phix[i])))\n",
    "        s += loss\n",
    "    \n",
    "    s /= num_samples # divide s by s and assign that value to s\n",
    "    s += (lamb/2) * sum(w[j]**2 for j in range(1,10))\n",
    "    \n",
    "    return s"
   ]
  },
  {
   "cell_type": "code",
   "execution_count": 340,
   "id": "c2b09b4d",
   "metadata": {},
   "outputs": [],
   "source": [
    "def gradient(w, phix, y, num_samples, lamb):\n",
    "    \n",
    "    # add regularization terms\n",
    "    add_column = w * (lamb/num_samples)\n",
    "    add_column[0] = 0\n",
    "    \n",
    "    a = sum((sigmoid(w, phix[i]) - y[i])*phix[i] + lamb * w for i in range(num_samples))\n",
    "    \n",
    "    return a"
   ]
  },
  {
   "cell_type": "code",
   "execution_count": 341,
   "id": "185b1018",
   "metadata": {},
   "outputs": [],
   "source": [
    "def hessian(w, phix, reg_identity_matrix, num_samples):\n",
    "    \n",
    "    matrix = []\n",
    "    for i in range(10):\n",
    "        row = []\n",
    "        for j in range(10):\n",
    "            cell = sum(sigmoid(w, phix[k])*(1-sigmoid(w, phix[k]))*phix[k][i]*phix[k][j] for k in range(num_samples))\n",
    "            row.append(cell)\n",
    "        matrix.append(row)\n",
    "    \n",
    "    H = np.array(matrix)\n",
    "    H = np.add(H, reg_identity_matrix)\n",
    "    \n",
    "    print(is_pos_def(H))\n",
    "    \n",
    "    return H   "
   ]
  },
  {
   "cell_type": "code",
   "execution_count": 342,
   "id": "ae08ac98",
   "metadata": {},
   "outputs": [],
   "source": [
    "def newtons_method(num_samples, lamb, iterations, w, phix, y, reg_identity_matrix):\n",
    "    \n",
    "    costs = []\n",
    "    \n",
    "    for i in range(iterations):\n",
    "        g = gradient(w, phix, y, num_samples, lamb)\n",
    "        H = hessian(w, phix, reg_identity_matrix, num_samples)\n",
    "        w = w - np.linalg.inv(H).dot(g)\n",
    "        cost = cost_function(phix, y, w, num_samples, lamb)\n",
    "        costs.append(cost)\n",
    "        print(\"Iteration: {}; Cost: {}\".format(i,cost))\n",
    "        \n",
    "        if cost < -1e9:\n",
    "            break\n",
    "        \n",
    "    return w, costs"
   ]
  },
  {
   "cell_type": "code",
   "execution_count": 343,
   "id": "92c18d68",
   "metadata": {},
   "outputs": [],
   "source": [
    "def logistic_regression_reg_newton(n=200, lmb=0, iters=10):\n",
    "\n",
    "    # step 1: choose number of samples\n",
    "    num_samples = n\n",
    "\n",
    "    # step 2: choose lambda\n",
    "    lamb = lmb\n",
    "\n",
    "    # step 3: choose the number of iterations\n",
    "    iterations = iters\n",
    "\n",
    "    # ----- ----- -----\n",
    "\n",
    "    # step 3: get samples\n",
    "    x_data, y_data = get_samples(X_orig, ydata, num_samples)\n",
    "\n",
    "    # step 4: setup my dataframes (only used in example to extract data frame)\n",
    "    x_df = pd.DataFrame(X_orig, columns=['score1', 'score'])\n",
    "    y_df = pd.DataFrame(ydata, columns=['acceptance'])\n",
    "\n",
    "    # DATA USED:\n",
    "    x = x_data\n",
    "    y = y_data\n",
    "\n",
    "    # step 5: calculate the feature vectors\n",
    "    phix = []\n",
    "    for k in range(num_samples):\n",
    "        phix.append(feature_vector(x[k], d=2))\n",
    "\n",
    "    # step 6: initialize our \"w\" term for Newton update (length=10 because of feature vector length)\n",
    "    w = np.array([0 for i in range(np.shape(phix)[1])])\n",
    "\n",
    "    # step 7: initialize the regularization matrix\n",
    "    reg_identity_matrix = np.zeros((np.shape(phix)[1],np.shape(phix)[1]), dtype=int) \n",
    "    np.fill_diagonal(reg_identity_matrix, 1)\n",
    "\n",
    "\n",
    "    # ----- ----- ----- \n",
    "\n",
    "    w, costs = newtons_method(num_samples, lamb, iterations, w, phix, y, reg_identity_matrix)\n",
    "    print(np.linalg.norm(w))\n",
    "    \n",
    "    return(w, costs)"
   ]
  },
  {
   "cell_type": "markdown",
   "id": "cecc47fd",
   "metadata": {},
   "source": [
    "## Run everything parameterized"
   ]
  },
  {
   "cell_type": "code",
   "execution_count": 344,
   "id": "04b58631",
   "metadata": {},
   "outputs": [
    {
     "name": "stdout",
     "output_type": "stream",
     "text": [
      "True\n",
      "Iteration: 0; Cost: [-1.85922936]\n",
      "True\n",
      "Iteration: 1; Cost: [-2.38138113]\n",
      "True\n",
      "Iteration: 2; Cost: [-2.87079955]\n",
      "True\n",
      "Iteration: 3; Cost: [-3.32734126]\n",
      "True\n",
      "Iteration: 4; Cost: [-3.74842345]\n",
      "True\n",
      "Iteration: 5; Cost: [-4.33829574]\n",
      "True\n",
      "Iteration: 6; Cost: [-5.76696812]\n",
      "True\n",
      "Iteration: 7; Cost: [-inf]\n",
      "6.0687244603098405\n"
     ]
    },
    {
     "name": "stderr",
     "output_type": "stream",
     "text": [
      "<ipython-input-339-21a88677cd5d>:6: RuntimeWarning: divide by zero encountered in log\n",
      "  loss = -y[i] * np.log(sigmoid(w, phix[i])) - (1-y[i]*np.log(1-sigmoid(w, phix[i])))\n"
     ]
    }
   ],
   "source": [
    "w, costs = logistic_regression_reg_newton(n=200, lmb=0, iters=10)"
   ]
  },
  {
   "cell_type": "code",
   "execution_count": 309,
   "id": "ae8e93d6",
   "metadata": {},
   "outputs": [
    {
     "data": {
      "text/plain": [
       "[<matplotlib.lines.Line2D at 0x10d8800d0>]"
      ]
     },
     "execution_count": 309,
     "metadata": {},
     "output_type": "execute_result"
    },
    {
     "data": {
      "image/png": "[encoded data removed]",
      "text/plain": [
       "<Figure size 432x288 with 1 Axes>"
      ]
     },
     "metadata": {
      "needs_background": "light"
     },
     "output_type": "display_data"
    }
   ],
   "source": [
    "plt.plot(costs)"
   ]
  },
  {
   "cell_type": "code",
   "execution_count": null,
   "id": "a7cea36e",
   "metadata": {},
   "outputs": [],
   "source": []
  },
  {
   "cell_type": "markdown",
   "id": "bc65f0fd",
   "metadata": {},
   "source": [
    "## Appendix of old code"
   ]
  },
  {
   "cell_type": "code",
   "execution_count": 89,
   "id": "e4a10843",
   "metadata": {},
   "outputs": [
    {
     "data": {
      "text/plain": [
       "'\\ndef get_samples(data, num_samples):\\n    # data (k x n x 2): data set to collect sampmles from\\n    # num samples: number of samples (1/2 will be collected from each class)\\n    \\n    num_classes = np.shape(data)[0]\\n    samples_per_class = int(num_samples / num_classes)\\n    \\n    class_data = []\\n    for c in range(num_classes):\\n        class_data.append(data[c,:samples_per_class,:])\\n    \\n    class_data = np.array(class_data)\\n    \\n    print(\"N samples: \", num_samples)\\n    print(\"sample shape: \", np.shape(class_data))\\n        \\n    return class_data\\n'"
      ]
     },
     "execution_count": 89,
     "metadata": {},
     "output_type": "execute_result"
    }
   ],
   "source": [
    "\"\"\"\n",
    "def get_samples(data, num_samples):\n",
    "    # data (k x n x 2): data set to collect sampmles from\n",
    "    # num samples: number of samples (1/2 will be collected from each class)\n",
    "    \n",
    "    num_classes = np.shape(data)[0]\n",
    "    samples_per_class = int(num_samples / num_classes)\n",
    "    \n",
    "    class_data = []\n",
    "    for c in range(num_classes):\n",
    "        class_data.append(data[c,:samples_per_class,:])\n",
    "    \n",
    "    class_data = np.array(class_data)\n",
    "    \n",
    "    print(\"N samples: \", num_samples)\n",
    "    print(\"sample shape: \", np.shape(class_data))\n",
    "        \n",
    "    return class_data\n",
    "\"\"\""
   ]
  },
  {
   "cell_type": "code",
   "execution_count": null,
   "id": "4d70f70d",
   "metadata": {},
   "outputs": [],
   "source": []
  }
 ],
 "metadata": {
  "kernelspec": {
   "display_name": "Python 3",
   "language": "python",
   "name": "python3"
  },
  "language_info": {
   "codemirror_mode": {
    "name": "ipython",
    "version": 3
   },
   "file_extension": ".py",
   "mimetype": "text/x-python",
   "name": "python",
   "nbconvert_exporter": "python",
   "pygments_lexer": "ipython3",
   "version": "3.8.7"
  }
 },
 "nbformat": 4,
 "nbformat_minor": 5
}
